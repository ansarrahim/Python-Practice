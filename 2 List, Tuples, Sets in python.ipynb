{
 "cells": [
  {
   "cell_type": "code",
   "execution_count": 2,
   "id": "0937c083-af34-4307-9f27-4593110abd48",
   "metadata": {},
   "outputs": [],
   "source": [
    "l = [1,344,54,\"ansar\",5+8j,153.89]"
   ]
  },
  {
   "cell_type": "code",
   "execution_count": 3,
   "id": "39d182cf-92ef-469e-a0d6-21a275abcbbc",
   "metadata": {},
   "outputs": [
    {
     "data": {
      "text/plain": [
       "list"
      ]
     },
     "execution_count": 3,
     "metadata": {},
     "output_type": "execute_result"
    }
   ],
   "source": [
    "type(l)"
   ]
  },
  {
   "cell_type": "code",
   "execution_count": 5,
   "id": "283dc35e-0ceb-4759-8f2e-01fd371c7316",
   "metadata": {},
   "outputs": [
    {
     "data": {
      "text/plain": [
       "'ansar'"
      ]
     },
     "execution_count": 5,
     "metadata": {},
     "output_type": "execute_result"
    }
   ],
   "source": [
    "l[3]"
   ]
  },
  {
   "cell_type": "code",
   "execution_count": 6,
   "id": "73bd5994-b749-4d56-9625-4e40f7d64ce7",
   "metadata": {},
   "outputs": [
    {
     "data": {
      "text/plain": [
       "[1, 344, 54, 'ansar', (5+8j), 153.89]"
      ]
     },
     "execution_count": 6,
     "metadata": {},
     "output_type": "execute_result"
    }
   ],
   "source": [
    "l"
   ]
  },
  {
   "cell_type": "code",
   "execution_count": 7,
   "id": "00020105-a3e0-40bb-9dc4-478f2085a62e",
   "metadata": {},
   "outputs": [
    {
     "data": {
      "text/plain": [
       "[54, 'ansar', (5+8j)]"
      ]
     },
     "execution_count": 7,
     "metadata": {},
     "output_type": "execute_result"
    }
   ],
   "source": [
    "l[2:5]"
   ]
  },
  {
   "cell_type": "code",
   "execution_count": 8,
   "id": "a789937c-dc0d-446e-92d1-812c5a7ba0d6",
   "metadata": {},
   "outputs": [
    {
     "data": {
      "text/plain": [
       "[153.89, (5+8j), 'ansar', 54, 344, 1]"
      ]
     },
     "execution_count": 8,
     "metadata": {},
     "output_type": "execute_result"
    }
   ],
   "source": [
    "l[::-1]"
   ]
  },
  {
   "cell_type": "code",
   "execution_count": 9,
   "id": "38a89150-64e5-43cd-9f1c-f40e63cc1eb7",
   "metadata": {},
   "outputs": [],
   "source": [
    "s = \"danyal\""
   ]
  },
  {
   "cell_type": "code",
   "execution_count": 10,
   "id": "7a5b3da6-6257-4650-af41-bfc5477fb37f",
   "metadata": {},
   "outputs": [],
   "source": [
    "l.append(s)"
   ]
  },
  {
   "cell_type": "code",
   "execution_count": 11,
   "id": "47fdf06f-ef43-4154-820e-22348df4530c",
   "metadata": {},
   "outputs": [
    {
     "data": {
      "text/plain": [
       "[1, 344, 54, 'ansar', (5+8j), 153.89, 'danyal']"
      ]
     },
     "execution_count": 11,
     "metadata": {},
     "output_type": "execute_result"
    }
   ],
   "source": [
    "l"
   ]
  },
  {
   "cell_type": "code",
   "execution_count": 1,
   "id": "e56d0cfb-042c-48d7-bc50-57404086b243",
   "metadata": {},
   "outputs": [],
   "source": [
    "t = (3,6,2,\"ansar\",\"khan\",[3,5,7])"
   ]
  },
  {
   "cell_type": "code",
   "execution_count": 2,
   "id": "bae027a4-5682-4a0c-95db-fa239f0b9c7b",
   "metadata": {},
   "outputs": [
    {
     "data": {
      "text/plain": [
       "(3, 6, 2, 'ansar', 'khan', [3, 5, 7])"
      ]
     },
     "execution_count": 2,
     "metadata": {},
     "output_type": "execute_result"
    }
   ],
   "source": [
    "t"
   ]
  },
  {
   "cell_type": "code",
   "execution_count": 3,
   "id": "cc1abbbf-ae12-4d98-bf18-10c5750b6dbb",
   "metadata": {},
   "outputs": [
    {
     "data": {
      "text/plain": [
       "tuple"
      ]
     },
     "execution_count": 3,
     "metadata": {},
     "output_type": "execute_result"
    }
   ],
   "source": [
    "type(t)"
   ]
  },
  {
   "cell_type": "code",
   "execution_count": 4,
   "id": "66dcdaf4-9f53-4b15-bbe4-2a84b5f69a34",
   "metadata": {},
   "outputs": [
    {
     "data": {
      "text/plain": [
       "6"
      ]
     },
     "execution_count": 4,
     "metadata": {},
     "output_type": "execute_result"
    }
   ],
   "source": [
    "len(t)"
   ]
  },
  {
   "cell_type": "code",
   "execution_count": null,
   "id": "c3afae59-0c1b-4462-a9d2-47f6ea4b2d89",
   "metadata": {},
   "outputs": [],
   "source": []
  }
 ],
 "metadata": {
  "kernelspec": {
   "display_name": "Python 3 (ipykernel)",
   "language": "python",
   "name": "python3"
  },
  "language_info": {
   "codemirror_mode": {
    "name": "ipython",
    "version": 3
   },
   "file_extension": ".py",
   "mimetype": "text/x-python",
   "name": "python",
   "nbconvert_exporter": "python",
   "pygments_lexer": "ipython3",
   "version": "3.10.8"
  }
 },
 "nbformat": 4,
 "nbformat_minor": 5
}
