{
 "cells": [
  {
   "cell_type": "code",
   "execution_count": 2,
   "id": "30ce5187-e13f-4761-8bf9-7e39e8ce032e",
   "metadata": {},
   "outputs": [],
   "source": [
    "d = {}"
   ]
  },
  {
   "cell_type": "code",
   "execution_count": 3,
   "id": "7ed78c36-8b5b-421a-a1be-64f479330ca8",
   "metadata": {},
   "outputs": [
    {
     "data": {
      "text/plain": [
       "dict"
      ]
     },
     "execution_count": 3,
     "metadata": {},
     "output_type": "execute_result"
    }
   ],
   "source": [
    "type(d)"
   ]
  },
  {
   "cell_type": "code",
   "execution_count": 4,
   "id": "1f21285e-455c-4f4b-9280-4324663711dd",
   "metadata": {},
   "outputs": [],
   "source": [
    "d = {'name' : \"ansar\", 'Email': \"ansarrahim789@gmail.com\", 'number': \"03169944142\"}"
   ]
  },
  {
   "cell_type": "code",
   "execution_count": 5,
   "id": "ab220527-7402-4c14-8da4-bd1cfa99390d",
   "metadata": {},
   "outputs": [
    {
     "data": {
      "text/plain": [
       "{'name': 'ansar', 'Email': 'ansarrahim789@gmail.com', 'number': '03169944142'}"
      ]
     },
     "execution_count": 5,
     "metadata": {},
     "output_type": "execute_result"
    }
   ],
   "source": [
    "d"
   ]
  },
  {
   "cell_type": "code",
   "execution_count": 7,
   "id": "a92b7d02-d46b-4439-b8ea-300bd7d1abf7",
   "metadata": {},
   "outputs": [
    {
     "data": {
      "text/plain": [
       "'ansar'"
      ]
     },
     "execution_count": 7,
     "metadata": {},
     "output_type": "execute_result"
    }
   ],
   "source": [
    "d[\"name\"]"
   ]
  },
  {
   "cell_type": "code",
   "execution_count": 9,
   "id": "8917cb94-76aa-4bd8-af36-ab1faa1f933e",
   "metadata": {},
   "outputs": [
    {
     "data": {
      "text/plain": [
       "'ansarrahim789@gmail.com'"
      ]
     },
     "execution_count": 9,
     "metadata": {},
     "output_type": "execute_result"
    }
   ],
   "source": [
    "d[\"Email\"]"
   ]
  },
  {
   "cell_type": "code",
   "execution_count": 4,
   "id": "ffccb5ef-bc5a-4f20-997b-0a3a107d035a",
   "metadata": {},
   "outputs": [
    {
     "name": "stdin",
     "output_type": "stream",
     "text": [
      "Enter your marks 45\n"
     ]
    },
    {
     "name": "stdout",
     "output_type": "stream",
     "text": [
      "You will be part of a2 batch \n"
     ]
    }
   ],
   "source": [
    "marks = int(input(\"Enter your marks\"))\n",
    "if marks >= 80:\n",
    "    print(\"you will be a part of A0 batch\")\n",
    "elif marks >= 60 and marks < 80:\n",
    "    print(\"You will be part of A1 batch \")\n",
    "elif marks >=40 and marks < 60:\n",
    "    print(\"You will be part of a2 batch \")\n",
    "else :\n",
    "    print(\"you will be part of A3 batch \")"
   ]
  },
  {
   "cell_type": "code",
   "execution_count": 6,
   "id": "8485d486-a4ad-4c77-b8e3-ab4f13c0fb71",
   "metadata": {},
   "outputs": [
    {
     "name": "stdin",
     "output_type": "stream",
     "text": [
      "Enter your price 70000\n"
     ]
    },
    {
     "name": "stdout",
     "output_type": "stream",
     "text": [
      "I will not purchase\n"
     ]
    }
   ],
   "source": [
    "price = int(input(\"Enter your price\"))\n",
    "\n",
    "if price > 1000:\n",
    "    print(\"I will not purchase\")\n",
    "else :\n",
    "    print(\"I will purchase\")"
   ]
  },
  {
   "cell_type": "code",
   "execution_count": 17,
   "id": "8f87b1e1-3943-4173-b175-65adc5230dc1",
   "metadata": {},
   "outputs": [
    {
     "name": "stdin",
     "output_type": "stream",
     "text": [
      "Enter your price  750\n"
     ]
    },
    {
     "name": "stdout",
     "output_type": "stream",
     "text": [
      "I will do shoping more \n"
     ]
    }
   ],
   "source": [
    "price = int(input(\"Enter your price \"))\n",
    "\n",
    "if price > 1000:\n",
    "    print(\"I will not purchase \")\n",
    "    if price > 5000:\n",
    "        print(\"It is too much \")\n",
    "elif price > 600 :\n",
    "    print(\"I will do shoping more \")\n",
    "else :\n",
    "    print(\"I will not purchase\")"
   ]
  },
  {
   "cell_type": "code",
   "execution_count": 18,
   "id": "5e7a8717-c20d-488b-b121-5eb9dc74a9e1",
   "metadata": {},
   "outputs": [],
   "source": [
    "list = [1,2,3,4,5,6,7,8,9,10]"
   ]
  },
  {
   "cell_type": "code",
   "execution_count": 21,
   "id": "c42dbe2f-abe8-4781-98ae-b0f06d884441",
   "metadata": {},
   "outputs": [
    {
     "name": "stdout",
     "output_type": "stream",
     "text": [
      "2\n",
      "4\n",
      "6\n",
      "8\n",
      "10\n",
      "12\n",
      "14\n",
      "16\n",
      "18\n",
      "20\n"
     ]
    }
   ],
   "source": [
    "for i in list :\n",
    "    print(i * 2)"
   ]
  },
  {
   "cell_type": "code",
   "execution_count": 22,
   "id": "4851c48b-a1f5-4c57-90c8-0852fe9dbf4c",
   "metadata": {},
   "outputs": [],
   "source": [
    "l = [1,2,3,4,5,6,7,8,9]"
   ]
  },
  {
   "cell_type": "code",
   "execution_count": 23,
   "id": "8d7276aa-b256-4ed1-8257-eb878e5a5bf8",
   "metadata": {},
   "outputs": [
    {
     "name": "stdout",
     "output_type": "stream",
     "text": [
      "2\n",
      "3\n",
      "4\n",
      "5\n",
      "6\n",
      "7\n",
      "8\n",
      "9\n",
      "10\n"
     ]
    },
    {
     "data": {
      "text/plain": [
       "[2, 3, 4, 5, 6, 7, 8, 9, 10]"
      ]
     },
     "execution_count": 23,
     "metadata": {},
     "output_type": "execute_result"
    }
   ],
   "source": [
    "l1 = []\n",
    "for i in l :\n",
    "    print(i + 1)\n",
    "    l1.append(i+1)\n",
    "l1"
   ]
  },
  {
   "cell_type": "code",
   "execution_count": 24,
   "id": "4eef7ba0-5687-4e51-899d-29c6069183f3",
   "metadata": {},
   "outputs": [],
   "source": [
    "l = [1,2,3,4,5,6,\"ansar\",\"khan\",\"danyal\",45,999]"
   ]
  },
  {
   "cell_type": "code",
   "execution_count": 25,
   "id": "726ba10d-77a5-4485-8f5e-f11ba18ec510",
   "metadata": {},
   "outputs": [],
   "source": [
    "l1_num =[]\n",
    "l2_str =[]\n",
    "for i in l:\n",
    "    if type(i) == int or type(i) == float :\n",
    "        l1_num.append(i)\n",
    "    else :\n",
    "        l2_str.append(i)"
   ]
  },
  {
   "cell_type": "code",
   "execution_count": 26,
   "id": "0e874df5-b2d4-422b-a9d7-aecf5b2c6008",
   "metadata": {},
   "outputs": [
    {
     "data": {
      "text/plain": [
       "[1, 2, 3, 4, 5, 6, 45, 999]"
      ]
     },
     "execution_count": 26,
     "metadata": {},
     "output_type": "execute_result"
    }
   ],
   "source": [
    "l1_num"
   ]
  },
  {
   "cell_type": "code",
   "execution_count": 27,
   "id": "dc1c31de-8da7-49c4-9139-da7e08c489f6",
   "metadata": {},
   "outputs": [
    {
     "data": {
      "text/plain": [
       "['ansar', 'khan', 'danyal']"
      ]
     },
     "execution_count": 27,
     "metadata": {},
     "output_type": "execute_result"
    }
   ],
   "source": [
    "l2_str"
   ]
  },
  {
   "cell_type": "code",
   "execution_count": null,
   "id": "f31d11a3-f84b-418c-9896-4d112a768018",
   "metadata": {},
   "outputs": [],
   "source": []
  }
 ],
 "metadata": {
  "kernelspec": {
   "display_name": "Python 3 (ipykernel)",
   "language": "python",
   "name": "python3"
  },
  "language_info": {
   "codemirror_mode": {
    "name": "ipython",
    "version": 3
   },
   "file_extension": ".py",
   "mimetype": "text/x-python",
   "name": "python",
   "nbconvert_exporter": "python",
   "pygments_lexer": "ipython3",
   "version": "3.10.8"
  }
 },
 "nbformat": 4,
 "nbformat_minor": 5
}
