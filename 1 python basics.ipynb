{
 "cells": [
  {
   "cell_type": "code",
   "execution_count": 1,
   "id": "ac52646d-b671-411a-a19d-aa713d175804",
   "metadata": {},
   "outputs": [
    {
     "data": {
      "text/plain": [
       "2"
      ]
     },
     "execution_count": 1,
     "metadata": {},
     "output_type": "execute_result"
    }
   ],
   "source": [
    "1 + 1"
   ]
  },
  {
   "cell_type": "code",
   "execution_count": 2,
   "id": "cdacf1e7-91c7-427b-9dda-0b90c6a090be",
   "metadata": {},
   "outputs": [
    {
     "data": {
      "text/plain": [
       "25"
      ]
     },
     "execution_count": 2,
     "metadata": {},
     "output_type": "execute_result"
    }
   ],
   "source": [
    "5 * 5"
   ]
  },
  {
   "cell_type": "code",
   "execution_count": 3,
   "id": "cd355ccc-b486-480f-8700-a15e0ca3a8d6",
   "metadata": {},
   "outputs": [],
   "source": [
    "a = 10 "
   ]
  },
  {
   "cell_type": "code",
   "execution_count": 4,
   "id": "719c7d31-0024-45d8-a25b-69879210ec5f",
   "metadata": {},
   "outputs": [
    {
     "name": "stdout",
     "output_type": "stream",
     "text": [
      "10\n"
     ]
    }
   ],
   "source": [
    "print(a)"
   ]
  },
  {
   "cell_type": "code",
   "execution_count": 5,
   "id": "ea4e183f-0cfe-4653-aba6-3c41f3c6ceea",
   "metadata": {},
   "outputs": [
    {
     "data": {
      "text/plain": [
       "10"
      ]
     },
     "execution_count": 5,
     "metadata": {},
     "output_type": "execute_result"
    }
   ],
   "source": [
    "a"
   ]
  },
  {
   "cell_type": "code",
   "execution_count": 6,
   "id": "255ea9bc-810e-4ba0-8719-3839c9a364ff",
   "metadata": {},
   "outputs": [],
   "source": [
    "ansar = 50"
   ]
  },
  {
   "cell_type": "code",
   "execution_count": 7,
   "id": "ad79bc5c-1bf6-4120-b45a-bb16d319651f",
   "metadata": {},
   "outputs": [
    {
     "data": {
      "text/plain": [
       "50"
      ]
     },
     "execution_count": 7,
     "metadata": {},
     "output_type": "execute_result"
    }
   ],
   "source": [
    "ansar"
   ]
  },
  {
   "cell_type": "code",
   "execution_count": 8,
   "id": "d6f44825-7209-4e89-ac5d-d964dbd667d3",
   "metadata": {},
   "outputs": [
    {
     "data": {
      "text/plain": [
       "60"
      ]
     },
     "execution_count": 8,
     "metadata": {},
     "output_type": "execute_result"
    }
   ],
   "source": [
    "a + ansar"
   ]
  },
  {
   "cell_type": "code",
   "execution_count": 9,
   "id": "208f43c0-8fc9-44ee-a0d2-05c737790285",
   "metadata": {},
   "outputs": [
    {
     "data": {
      "text/plain": [
       "int"
      ]
     },
     "execution_count": 9,
     "metadata": {},
     "output_type": "execute_result"
    }
   ],
   "source": [
    "type(ansar)"
   ]
  },
  {
   "cell_type": "code",
   "execution_count": 10,
   "id": "112363a1-1ddd-4480-a843-7747a7993ff8",
   "metadata": {},
   "outputs": [],
   "source": [
    "v = 5 + 9j"
   ]
  },
  {
   "cell_type": "code",
   "execution_count": 11,
   "id": "35229c00-b8cb-4030-876e-f3ff2d31cc9b",
   "metadata": {},
   "outputs": [
    {
     "data": {
      "text/plain": [
       "complex"
      ]
     },
     "execution_count": 11,
     "metadata": {},
     "output_type": "execute_result"
    }
   ],
   "source": [
    "type(v)"
   ]
  },
  {
   "cell_type": "code",
   "execution_count": 12,
   "id": "e544e945-29a8-4377-8f97-a9dc28e5229a",
   "metadata": {},
   "outputs": [
    {
     "data": {
      "text/plain": [
       "5.0"
      ]
     },
     "execution_count": 12,
     "metadata": {},
     "output_type": "execute_result"
    }
   ],
   "source": [
    "v.real"
   ]
  },
  {
   "cell_type": "code",
   "execution_count": 13,
   "id": "62b6d43e-ddb4-45ff-8392-f3d4e0cd9f44",
   "metadata": {},
   "outputs": [
    {
     "data": {
      "text/plain": [
       "9.0"
      ]
     },
     "execution_count": 13,
     "metadata": {},
     "output_type": "execute_result"
    }
   ],
   "source": [
    "v.imag"
   ]
  },
  {
   "cell_type": "code",
   "execution_count": 14,
   "id": "44bd6c91-fc73-47f8-b581-3c3e12d2ab3e",
   "metadata": {},
   "outputs": [
    {
     "data": {
      "text/plain": [
       "(5+9j)"
      ]
     },
     "execution_count": 14,
     "metadata": {},
     "output_type": "execute_result"
    }
   ],
   "source": [
    "v"
   ]
  },
  {
   "cell_type": "code",
   "execution_count": 15,
   "id": "1ae9d2b4-b97f-49a6-a3f7-65b930732c75",
   "metadata": {},
   "outputs": [
    {
     "name": "stdout",
     "output_type": "stream",
     "text": [
      "My name is Ansar\n"
     ]
    }
   ],
   "source": [
    "print(\"My name is Ansar\")"
   ]
  },
  {
   "cell_type": "code",
   "execution_count": 16,
   "id": "4a6c37ba-e7a0-474d-b694-a12b1ea03c24",
   "metadata": {},
   "outputs": [],
   "source": [
    "k = \"Ansar\""
   ]
  },
  {
   "cell_type": "code",
   "execution_count": 17,
   "id": "f774cd45-8d46-4225-91d3-19003081b737",
   "metadata": {},
   "outputs": [
    {
     "data": {
      "text/plain": [
       "'a'"
      ]
     },
     "execution_count": 17,
     "metadata": {},
     "output_type": "execute_result"
    }
   ],
   "source": [
    "k[3]"
   ]
  },
  {
   "cell_type": "code",
   "execution_count": 18,
   "id": "aa7b7ed4-b848-49af-adbe-aae808401a8b",
   "metadata": {},
   "outputs": [
    {
     "data": {
      "text/plain": [
       "'r'"
      ]
     },
     "execution_count": 18,
     "metadata": {},
     "output_type": "execute_result"
    }
   ],
   "source": [
    "k[4]"
   ]
  },
  {
   "cell_type": "code",
   "execution_count": 19,
   "id": "c70bd111-33fe-4457-bd64-77b7fa3e12b4",
   "metadata": {},
   "outputs": [
    {
     "data": {
      "text/plain": [
       "'r'"
      ]
     },
     "execution_count": 19,
     "metadata": {},
     "output_type": "execute_result"
    }
   ],
   "source": [
    "k[-1]"
   ]
  },
  {
   "cell_type": "code",
   "execution_count": 20,
   "id": "d2c69c50-1017-48eb-9ebc-32e4ef557067",
   "metadata": {},
   "outputs": [
    {
     "data": {
      "text/plain": [
       "'s'"
      ]
     },
     "execution_count": 20,
     "metadata": {},
     "output_type": "execute_result"
    }
   ],
   "source": [
    "k[-3]"
   ]
  },
  {
   "cell_type": "code",
   "execution_count": 21,
   "id": "d2c2c440-96fc-44ce-895f-c7dd48482e23",
   "metadata": {},
   "outputs": [
    {
     "data": {
      "text/plain": [
       "'Ans'"
      ]
     },
     "execution_count": 21,
     "metadata": {},
     "output_type": "execute_result"
    }
   ],
   "source": [
    "k[0:3]"
   ]
  },
  {
   "cell_type": "code",
   "execution_count": 22,
   "id": "c84fd34b-8916-4a48-86c6-a873cbd78984",
   "metadata": {},
   "outputs": [
    {
     "data": {
      "text/plain": [
       "'Ansa'"
      ]
     },
     "execution_count": 22,
     "metadata": {},
     "output_type": "execute_result"
    }
   ],
   "source": [
    "k[0:4]"
   ]
  },
  {
   "cell_type": "code",
   "execution_count": 23,
   "id": "15c11e70-745e-4e1d-bdf0-e2a7b1ec0d1f",
   "metadata": {},
   "outputs": [
    {
     "data": {
      "text/plain": [
       "'As'"
      ]
     },
     "execution_count": 23,
     "metadata": {},
     "output_type": "execute_result"
    }
   ],
   "source": [
    "k[0:4:2]"
   ]
  },
  {
   "cell_type": "code",
   "execution_count": 24,
   "id": "dbc7233b-1f8a-4dc7-91eb-88ebdfc6e0cd",
   "metadata": {},
   "outputs": [
    {
     "data": {
      "text/plain": [
       "'Asr'"
      ]
     },
     "execution_count": 24,
     "metadata": {},
     "output_type": "execute_result"
    }
   ],
   "source": [
    "k[0:5:2]"
   ]
  },
  {
   "cell_type": "code",
   "execution_count": 3,
   "id": "fdbd552c-904a-4d10-81ea-d2440934a4e0",
   "metadata": {},
   "outputs": [],
   "source": [
    "s = \"pakistan\""
   ]
  },
  {
   "cell_type": "code",
   "execution_count": 4,
   "id": "c546a556-8d4a-403d-8eef-af78d8359faa",
   "metadata": {},
   "outputs": [
    {
     "data": {
      "text/plain": [
       "'natsikap'"
      ]
     },
     "execution_count": 4,
     "metadata": {},
     "output_type": "execute_result"
    }
   ],
   "source": [
    "s[::-1]"
   ]
  },
  {
   "cell_type": "code",
   "execution_count": 5,
   "id": "4b5f48d8-9f33-47f3-a946-0f3ff38f3e0f",
   "metadata": {},
   "outputs": [
    {
     "data": {
      "text/plain": [
       "''"
      ]
     },
     "execution_count": 5,
     "metadata": {},
     "output_type": "execute_result"
    }
   ],
   "source": [
    "s[2:7:-1]"
   ]
  },
  {
   "cell_type": "code",
   "execution_count": 2,
   "id": "37e2ed7a-75b6-4a99-98bb-3c069ef5d97a",
   "metadata": {},
   "outputs": [],
   "source": [
    "a = \"amankot\""
   ]
  },
  {
   "cell_type": "code",
   "execution_count": 3,
   "id": "e5d60745-5209-459f-a2e0-49b1f0074246",
   "metadata": {},
   "outputs": [
    {
     "data": {
      "text/plain": [
       "''"
      ]
     },
     "execution_count": 3,
     "metadata": {},
     "output_type": "execute_result"
    }
   ],
   "source": [
    "a[-2:-8:1]"
   ]
  },
  {
   "cell_type": "code",
   "execution_count": null,
   "id": "142fc937-885a-4f4d-8955-e6f993e33bfd",
   "metadata": {},
   "outputs": [],
   "source": []
  }
 ],
 "metadata": {
  "kernelspec": {
   "display_name": "Python 3 (ipykernel)",
   "language": "python",
   "name": "python3"
  },
  "language_info": {
   "codemirror_mode": {
    "name": "ipython",
    "version": 3
   },
   "file_extension": ".py",
   "mimetype": "text/x-python",
   "name": "python",
   "nbconvert_exporter": "python",
   "pygments_lexer": "ipython3",
   "version": "3.10.8"
  }
 },
 "nbformat": 4,
 "nbformat_minor": 5
}
